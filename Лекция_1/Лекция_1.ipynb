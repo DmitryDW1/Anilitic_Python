{
 "cells": [
  {
   "cell_type": "markdown",
   "id": "1d93438e-3251-44d7-a291-b33c73a1ff49",
   "metadata": {},
   "source": [
    "Горячие клавиши\n",
    "\n",
    "- Ctrl+A - выделить всё\n",
    "- Ctrl+Home - подняться на начало ячейки\n",
    "- Ctrl+End - опуститься на конец ячейки\n",
    "- Ctrl+Left - перемещаться на одно слово влево\n",
    "- Ctrl+Right - перемещаться на одно слово вправо\n",
    "\n",
    "А если вдруг забыли, в каком порядке идут аргументы в\n",
    "функции, то для того, чтобы вспомнить можно нажать на\n",
    "Shift+Tab и выскакивает небольшая документация, посвященная\n",
    "этой функции."
   ]
  },
  {
   "cell_type": "markdown",
   "id": "9878068b-b871-4458-a9c6-cf43d062454d",
   "metadata": {},
   "source": [
    "И еще несколько приятных сочетаний клавиш:\n",
    "- Ctrl+Z - откатить только что сделанное действие\n",
    "- Ctrl+/ - закомментировать или раскомментировать\n",
    "- Ctrl+D - удалить целую строку"
   ]
  },
  {
   "cell_type": "code",
   "execution_count": 3,
   "id": "49fa437d-1414-4871-8ef8-843865309b5e",
   "metadata": {},
   "outputs": [
    {
     "data": {
      "text/plain": [
       "8"
      ]
     },
     "execution_count": 3,
     "metadata": {},
     "output_type": "execute_result"
    }
   ],
   "source": [
    "pow(2, 3)"
   ]
  },
  {
   "cell_type": "code",
   "execution_count": 2,
   "id": "91d0b4c3-c290-4525-9ab1-15fa2a93b967",
   "metadata": {
    "scrolled": true
   },
   "outputs": [
    {
     "data": {
      "text/plain": [
       "\u001b[1;31mSignature:\u001b[0m \u001b[0mpow\u001b[0m\u001b[1;33m(\u001b[0m\u001b[0mbase\u001b[0m\u001b[1;33m,\u001b[0m \u001b[0mexp\u001b[0m\u001b[1;33m,\u001b[0m \u001b[0mmod\u001b[0m\u001b[1;33m=\u001b[0m\u001b[1;32mNone\u001b[0m\u001b[1;33m)\u001b[0m\u001b[1;33m\u001b[0m\u001b[1;33m\u001b[0m\u001b[0m\n",
       "\u001b[1;31mDocstring:\u001b[0m\n",
       "Equivalent to base**exp with 2 arguments or base**exp % mod with 3 arguments\n",
       "\n",
       "Some types, such as ints, are able to use a more efficient algorithm when\n",
       "invoked using the three argument form.\n",
       "\u001b[1;31mType:\u001b[0m      builtin_function_or_method"
      ]
     },
     "metadata": {},
     "output_type": "display_data"
    }
   ],
   "source": [
    "?pow"
   ]
  },
  {
   "cell_type": "code",
   "execution_count": null,
   "id": "a87aff54-5ae6-4cba-a37b-e4e2ab5d623d",
   "metadata": {},
   "outputs": [],
   "source": [
    "num = 3\n",
    "num += 1"
   ]
  },
  {
   "cell_type": "markdown",
   "id": "bf5114d6-560c-46cb-8490-1a3eec3943d4",
   "metadata": {},
   "source": [
    "- А - создать новую ячейку сверху\n",
    "- B - создать ячейка снизу текущей\n",
    "- X - вырезать ячейку\n",
    "- C - копировать ячейку\n",
    "- V - вставить ячейку"
   ]
  },
  {
   "cell_type": "markdown",
   "id": "a645ec92-dc1a-4cd5-95f4-8331e25896e1",
   "metadata": {},
   "source": [
    "Из интересного еще есть клавиша ctrl+F, которая находит\n",
    "нужный набор символов и меняет на другое.\n",
    "Для этого во-первых, нужно находится в выбранной ячейке,\n",
    "во-вторых нужно находиться в режиме ввода команд, чтобы была\n",
    "синяя обводка у рамки, ну а в-третьих, нужно нажать на ctrl+F."
   ]
  },
  {
   "cell_type": "markdown",
   "id": "6dc973e1-6a53-425d-9d4d-6c0ebbe9622e",
   "metadata": {},
   "source": [
    "Движемся дальше и обсудим, как поменять тип ячейки:\n",
    "- если хочется из ячейки сделать код, то можно нажать на Y\n",
    "- а если хочется наоборот поменять на текст, то нажимайте на M."
   ]
  },
  {
   "cell_type": "markdown",
   "id": "a06582fa-efc2-4d4a-97fd-cebbfa2ece90",
   "metadata": {},
   "source": [
    "# Заголовок \n",
    "## Заголовок \n",
    "### Заголовок \n",
    "#### Заголовок \n",
    "##### Заголовок \n",
    "###### Заголовок "
   ]
  },
  {
   "cell_type": "markdown",
   "id": "212a44e0-0bcd-408c-955a-119cc0a0957f",
   "metadata": {},
   "source": [
    "Если вы где-то в коде поймали ошибку, но вам лень считать, в\n",
    "какой строке это произошло, то можно нажать на L и тогда\n",
    "юпитер покажет нумерацию строк. Если вам надоест смотреть на\n",
    "эти цифры можно нажать снова на shift + L."
   ]
  },
  {
   "cell_type": "markdown",
   "id": "4fd4151a-ba7d-4ed7-a6a5-e9b34edb4e89",
   "metadata": {
    "scrolled": true
   },
   "source": [
    "a = 12\n",
    "3 / 0\n",
    "b = 3\n",
    "a + b"
   ]
  },
  {
   "cell_type": "markdown",
   "id": "f6bf8126-cd8c-49cf-92eb-949b031d2ee8",
   "metadata": {},
   "source": [
    "На ctrl + SHIFT + H можно посмотреть на сочетания клавиш, некоторые из\n",
    "которых мы с вами уже посмотрели."
   ]
  },
  {
   "cell_type": "markdown",
   "id": "f3b5a339-506f-45d6-9055-e965c16dc6c1",
   "metadata": {},
   "source": [
    "Если у вас ячейка долго выполняется, а у вас нет столько\n",
    "времени, то можно прекратить её выполнение, нажав на I, I."
   ]
  },
  {
   "cell_type": "code",
   "execution_count": 6,
   "id": "74491e2c-72c1-46df-9612-08726b463846",
   "metadata": {},
   "outputs": [
    {
     "ename": "KeyboardInterrupt",
     "evalue": "",
     "output_type": "error",
     "traceback": [
      "\u001b[1;31m---------------------------------------------------------------------------\u001b[0m",
      "\u001b[1;31mKeyboardInterrupt\u001b[0m                         Traceback (most recent call last)",
      "Cell \u001b[1;32mIn[6], line 2\u001b[0m\n\u001b[0;32m      1\u001b[0m \u001b[38;5;28;01mfor\u001b[39;00m i \u001b[38;5;129;01min\u001b[39;00m \u001b[38;5;28mrange\u001b[39m(\u001b[38;5;241m1000000000\u001b[39m):\n\u001b[1;32m----> 2\u001b[0m     \u001b[38;5;28;01mpass\u001b[39;00m\n",
      "\u001b[1;31mKeyboardInterrupt\u001b[0m: "
     ]
    }
   ],
   "source": [
    "for i in range(1000000000):\n",
    "    pass"
   ]
  },
  {
   "cell_type": "code",
   "execution_count": null,
   "id": "433051f1-19d3-48de-ab72-c3efd661245c",
   "metadata": {},
   "outputs": [],
   "source": [
    "И чтобы перезапустить весь ноутбук можно нажать на 0,0, но\n",
    "будьте аккуратней, ведь так все ваши переменные сотрутся и всё\n",
    "начнется с чистого листа. Если к этому готовы, то нажимайте на\n",
    "рестарт."
   ]
  },
  {
   "cell_type": "markdown",
   "id": "8cd26e10-022d-4c1b-9158-1faaf24d49c5",
   "metadata": {},
   "source": [
    "Markdown - облегчённый язык разметки, созданный с целью\n",
    "обозначения форматирования в простом тексте, с максимальным\n",
    "сохранением его читаемости человеком, и пригодный для\n",
    "машинного\n",
    "преобразования\n",
    "публикаций.\n",
    "Этот язык разметки нужен для того, чтобы создавать\n",
    "красиво оформленные тексты. Вам не нужно использовать\n",
    "Microsoft Word или подобные программы, чтобы создавать\n",
    "документы с жирным или курсивным начертанием, цитатами,\n",
    "ссылками и таблицами."
   ]
  },
  {
   "cell_type": "markdown",
   "id": "2a3b0fd4-f946-4f31-ba4a-699506a14c6e",
   "metadata": {},
   "source": [
    "Плавно переходим к ячейке с текстом и обсудим, как можно\n",
    "её красиво оформить. Можно из ячейки с текстом делать\n",
    "заголовок, путем нажатия на цифры от 1 до 6 1 - это самый\n",
    "большой заголовок, а 6 - это самый маленький заголовок."
   ]
  },
  {
   "cell_type": "markdown",
   "id": "7fc98e0f-1b1a-4cfb-8bcd-2fd904c0eaa5",
   "metadata": {},
   "source": [
    "Для оформления и выделения мы используем символы,\n",
    "которые должны располагаться перед и после фразы или слова,\n",
    "которое нужно оформить.\n",
    "- ** или __ - выделение текста  **жирным**\n",
    "- * или _ - выделение текста *курсивом*\n",
    "- - добавление списка в текст\n",
    "- можно писать формулы на языке LaTex\n"
   ]
  },
  {
   "cell_type": "markdown",
   "id": "09bd569d-43df-43fa-bdc4-a62642901e2c",
   "metadata": {},
   "source": [
    "Latex\n",
    "$$\\frac{1}{n} \\sum{x_ij}$$\n",
    "<img src=''>"
   ]
  },
  {
   "cell_type": "markdown",
   "id": "1da8f010-4d10-49ab-9208-af77a7f32103",
   "metadata": {},
   "source": [
    "Тэг HTML - элемент языка разметки. Текст, содержащийся\n",
    "между начальным и конечным тегом, отображается и\n",
    "размещается в соответствии со свойствами, указанными в\n",
    "начальном теге.\n",
    "Теги нужны для того, чтобы при отображении язык разметки\n",
    "понимал, что имеет дело не с простым текстом, а с элементом\n",
    "форматирования. И нужно применить какое-то действие. К\n",
    "примеру, любой сайт, на который вы можете перейти, содержит\n",
    "огромное количество тегов. Без них не было бы такого красивого\n",
    "форматирования страниц с текстами разных начертаний,\n",
    "шрифтов, с таблицами, картинками и гиперссылками."
   ]
  },
  {
   "cell_type": "code",
   "execution_count": null,
   "id": "41cf760a-6f9d-46a3-9bd7-3bd06321edfb",
   "metadata": {},
   "outputs": [],
   "source": [
    "1 img, сюда в src можно передать адрес любой картинки с\n",
    "интернета"
   ]
  },
  {
   "cell_type": "markdown",
   "id": "0c2fc042-0032-4b24-af53-bf2249b45436",
   "metadata": {},
   "source": [
    "<img src='https://frontend-scripts.hb.bizmrg.com/unique-hf/svg/logo.svg'>"
   ]
  },
  {
   "cell_type": "code",
   "execution_count": null,
   "id": "f58b62fd-f579-4409-9ad6-91fd38e1262d",
   "metadata": {},
   "outputs": [],
   "source": [
    "2 <b> оформляем наш текст "
   ]
  },
  {
   "cell_type": "markdown",
   "id": "d8ed5f4f-093b-454d-bfc2-0edb4d9bb9b7",
   "metadata": {},
   "source": [
    "<b>жирный</b><br>\n",
    "<i>курсив</i>"
   ]
  },
  {
   "cell_type": "markdown",
   "id": "ac93bf76-ade8-4adf-9b2e-e3816b6f73df",
   "metadata": {},
   "source": [
    "и давайте обсудим <table>, с помощью него можно\n",
    "создавать\n",
    "таблицы"
   ]
  },
  {
   "cell_type": "markdown",
   "id": "1d5b67cd-6dde-4d95-97bf-cb6f51b809de",
   "metadata": {},
   "source": [
    "<table>\n",
    "    <tr>\n",
    "        <td>Первый столбик</td>\n",
    "        <td>Второй столбик</td>\n",
    "    </tr>\n",
    "    <tr>\n",
    "        <td>Первый столбик</td>\n",
    "        <td>Второй столбик</td>\n",
    "    </tr>\n",
    "</table>"
   ]
  },
  {
   "cell_type": "code",
   "execution_count": null,
   "id": "5fc771a2-8df0-4d1c-8f34-7510dbd2f11a",
   "metadata": {},
   "outputs": [],
   "source": [
    "Словари\n",
    "Отлично, с ноутбуком и markdown’ом разобрались, дальше\n",
    "движемся к расширению наших знаний по структуре данных dict\n",
    "и будем с ним работать в юпитер ноутбуке.\n",
    "Словарь - неупорядоченная структура данных, которая\n",
    "позволяет хранить пары «ключ — значение».\n",
    "Данный словарь использует строки в качестве ключей,\n",
    "однако ключом может являться в принципе любой неизменяемый\n",
    "тип данных. Значением же конкретного ключа может быть что\n",
    "угодно.\n",
    "Чтобы вспомнить про эту структуру данных и узнать новые\n",
    "подходы для работы с ней, возьмем данные про John Doe,\n",
    "которые лежат в словаре."
   ]
  },
  {
   "cell_type": "code",
   "execution_count": 10,
   "id": "264a8fd3-da1a-476f-99f9-c8850d10218b",
   "metadata": {},
   "outputs": [
    {
     "data": {
      "text/plain": [
       "{'name': 'John', 'surname': 'Doe', 'age': 32}"
      ]
     },
     "execution_count": 10,
     "metadata": {},
     "output_type": "execute_result"
    }
   ],
   "source": [
    "client_data = {\n",
    "    'name': 'John',\n",
    "    'surname': 'Doe',\n",
    "    'age': 32\n",
    "}\n",
    "client_data"
   ]
  },
  {
   "cell_type": "code",
   "execution_count": null,
   "id": "bf4abe5b-660b-477d-a4d8-d66ab2beb08f",
   "metadata": {},
   "outputs": [],
   "source": []
  }
 ],
 "metadata": {
  "kernelspec": {
   "display_name": "Python 3 (ipykernel)",
   "language": "python",
   "name": "python3"
  },
  "language_info": {
   "codemirror_mode": {
    "name": "ipython",
    "version": 3
   },
   "file_extension": ".py",
   "mimetype": "text/x-python",
   "name": "python",
   "nbconvert_exporter": "python",
   "pygments_lexer": "ipython3",
   "version": "3.11.5"
  }
 },
 "nbformat": 4,
 "nbformat_minor": 5
}
