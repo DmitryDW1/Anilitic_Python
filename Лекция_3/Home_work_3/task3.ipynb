{
 "cells": [
  {
   "cell_type": "markdown",
   "metadata": {},
   "source": [
    "Составьте несколько сводных таблиц\n",
    "\n",
    "Инструкция по использованию платформы\n",
    "\n",
    "\n",
    "\n",
    "Составьте несколько сводных таблиц.\n",
    "Данные находятся в файле kc_house_data.csv.\n",
    "\n",
    "среднюю стоимость домов в зависимости от количества спален и сохраните в avg.\n",
    "Отсортируйте от меньшей стоимости к большей.\n",
    "\n",
    "Найдите минимальную min, среднюю mean и максимальную max стоимости домов в зависимости от состояния дома и сохраните в price.\n",
    "\n",
    "Постройте таблицу с подсчетом количества домов в данных в зависимости от вида на набережную waterfront и оценкой вида view и сохраните ее в view_waterfront.\n",
    "\n",
    "Каких домов в зависимости от этажности и количества спален больше? Постройте эту таблицу, содержащую в себе информацию о спальнях и этажности, и сохраните ее в bedrooms_floors.\n",
    "\n",
    "Постройте таблицу с подсчетом медианной стоимости домов в данных в зависимости от состояния дома и оценки дома и сохраните в 'median_price'."
   ]
  },
  {
   "cell_type": "code",
   "execution_count": null,
   "metadata": {},
   "outputs": [],
   "source": [
    "import pandas as pd\n",
    "import numpy as np\n",
    "df = pd.read_csv(\"kc_house_data.csv\", encoding=\"latin-1\")\n",
    "\n",
    "avg = df.groupby('bedrooms').agg({'price': 'mean'}).sort_values('price')\n",
    "\n",
    "price = df.groupby(\"condition\").agg({\"price\": [\"min\", \"mean\", \"max\"]})\n",
    "\n",
    "view_waterfront = df.pivot_table(\n",
    "    index='waterfront', \n",
    "    columns='view', \n",
    "    values='condition', \n",
    "    aggfunc='count', \n",
    "    fill_value=0\n",
    "    )\n",
    "\n",
    "bedrooms_floors = df.pivot_table(\n",
    "    index='floors', \n",
    "    columns='bedrooms', \n",
    "    values='id', \n",
    "    aggfunc='count', \n",
    "    fill_value=0\n",
    "    )\n",
    "\n",
    "median_price = df.pivot_table(\n",
    "    index='condition', \n",
    "    columns='grade', \n",
    "    values='price', \n",
    "    aggfunc='median', \n",
    "    fill_value=0\n",
    "    )"
   ]
  },
  {
   "cell_type": "code",
   "execution_count": null,
   "metadata": {},
   "outputs": [],
   "source": []
  }
 ],
 "metadata": {
  "kernelspec": {
   "display_name": "Python 3",
   "language": "python",
   "name": "python3"
  },
  "language_info": {
   "name": "python",
   "version": "3.12.1"
  }
 },
 "nbformat": 4,
 "nbformat_minor": 2
}
