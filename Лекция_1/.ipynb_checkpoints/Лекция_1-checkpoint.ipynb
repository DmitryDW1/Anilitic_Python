{
 "cells": [
  {
   "cell_type": "markdown",
   "id": "1d93438e-3251-44d7-a291-b33c73a1ff49",
   "metadata": {},
   "source": [
    "Горячие клавиши\n",
    "\n",
    "1 Ctrl+A - выделить всё\n",
    "2 Ctrl+Home - подняться на начало ячейки\n",
    "3 Ctrl+End - опуститься на конец ячейки\n",
    "4 Ctrl+Left - перемещаться на одно слово влево\n",
    "5 Ctrl+Right - перемещаться на одно слово вправо\n",
    "\n",
    "А если вдруг забыли, в каком порядке идут аргументы в\n",
    "функции, то для того, чтобы вспомнить можно нажать на\n",
    "Shift+Tab и выскакивает небольшая документация, посвященная\n",
    "этой функции."
   ]
  },
  {
   "cell_type": "markdown",
   "id": "9878068b-b871-4458-a9c6-cf43d062454d",
   "metadata": {},
   "source": [
    "И еще несколько приятных сочетаний клавиш:\n",
    "1 Ctrl+Z - откатить только что сделанное действие\n",
    "2 Ctrl+/ - закомментировать или раскомментировать\n",
    "3 Ctrl+D - удалить целую строку"
   ]
  },
  {
   "cell_type": "code",
   "execution_count": 3,
   "id": "49fa437d-1414-4871-8ef8-843865309b5e",
   "metadata": {},
   "outputs": [
    {
     "data": {
      "text/plain": [
       "8"
      ]
     },
     "execution_count": 3,
     "metadata": {},
     "output_type": "execute_result"
    }
   ],
   "source": [
    "pow(2, 3)"
   ]
  },
  {
   "cell_type": "code",
   "execution_count": 2,
   "id": "91d0b4c3-c290-4525-9ab1-15fa2a93b967",
   "metadata": {
    "scrolled": true
   },
   "outputs": [
    {
     "data": {
      "text/plain": [
       "\u001b[1;31mSignature:\u001b[0m \u001b[0mpow\u001b[0m\u001b[1;33m(\u001b[0m\u001b[0mbase\u001b[0m\u001b[1;33m,\u001b[0m \u001b[0mexp\u001b[0m\u001b[1;33m,\u001b[0m \u001b[0mmod\u001b[0m\u001b[1;33m=\u001b[0m\u001b[1;32mNone\u001b[0m\u001b[1;33m)\u001b[0m\u001b[1;33m\u001b[0m\u001b[1;33m\u001b[0m\u001b[0m\n",
       "\u001b[1;31mDocstring:\u001b[0m\n",
       "Equivalent to base**exp with 2 arguments or base**exp % mod with 3 arguments\n",
       "\n",
       "Some types, such as ints, are able to use a more efficient algorithm when\n",
       "invoked using the three argument form.\n",
       "\u001b[1;31mType:\u001b[0m      builtin_function_or_method"
      ]
     },
     "metadata": {},
     "output_type": "display_data"
    }
   ],
   "source": [
    "?pow"
   ]
  },
  {
   "cell_type": "markdown",
   "id": "bf5114d6-560c-46cb-8490-1a3eec3943d4",
   "metadata": {},
   "source": [
    "1 А - создать новую ячейку сверху\n",
    "2 B - создать ячейка снизу текущей\n",
    "3 X - вырезать ячейку\n",
    "4 C - копировать ячейку\n",
    "5 V - вставить ячейку"
   ]
  },
  {
   "cell_type": "markdown",
   "id": "31f67243-48b0-463b-bbf6-52ec4c140fc4",
   "metadata": {},
   "source": [
    "Из интересного еще есть клавиша ctrl+F, которая находит\n",
    "нужный набор символов и меняет на другое.\n",
    "Для этого во-первых, нужно находится в выбранной ячейке,\n",
    "во-вторых нужно находиться в режиме ввода команд, чтобы была\n",
    "синяя обводка у рамки, ну а в-третьих, нужно нажать на ctrl+F."
   ]
  },
  {
   "cell_type": "markdown",
   "id": "952f768c-dcd1-4441-90d0-f09f029a5b95",
   "metadata": {
    "jp-MarkdownHeadingCollapsed": true
   },
   "source": [
    "# Заголовок \n"
   ]
  }
 ],
 "metadata": {
  "kernelspec": {
   "display_name": "Python 3 (ipykernel)",
   "language": "python",
   "name": "python3"
  },
  "language_info": {
   "codemirror_mode": {
    "name": "ipython",
    "version": 3
   },
   "file_extension": ".py",
   "mimetype": "text/x-python",
   "name": "python",
   "nbconvert_exporter": "python",
   "pygments_lexer": "ipython3",
   "version": "3.11.5"
  }
 },
 "nbformat": 4,
 "nbformat_minor": 5
}
